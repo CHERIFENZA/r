{
 "cells": [
  {
   "cell_type": "code",
   "execution_count": 2,
   "id": "104a68ca",
   "metadata": {},
   "outputs": [
    {
     "name": "stdout",
     "output_type": "stream",
     "text": [
      "False\n",
      "True\n"
     ]
    }
   ],
   "source": [
    "def binary_search(arr, target):\n",
    "    left, right = 0, len(arr) - 1\n",
    "    \n",
    "    while left <= right:\n",
    "        mid = left + (right - left) // 2\n",
    "        if arr[mid] == target:\n",
    "            return True\n",
    "        elif arr[mid] < target:\n",
    "            left = mid + 1\n",
    "        else:\n",
    "            right = mid - 1\n",
    "    \n",
    "    return False\n",
    "\n",
    "# Données d'essai\n",
    "print(binary_search([1, 2, 3, 5, 8], 6))  # False\n",
    "print(binary_search([1, 2, 3, 5, 8], 5))  # True"
   ]
  },
  {
   "cell_type": "code",
   "execution_count": 3,
   "id": "74503704",
   "metadata": {},
   "outputs": [
    {
     "name": "stdout",
     "output_type": "stream",
     "text": [
      "81\n"
     ]
    }
   ],
   "source": [
    "def power(a, b):\n",
    "    return a ** b\n",
    "\n",
    "# Données d'essai\n",
    "print(power(3, 4))  # 81"
   ]
  },
  {
   "cell_type": "code",
   "execution_count": 5,
   "id": "5a32759b",
   "metadata": {},
   "outputs": [
    {
     "name": "stdout",
     "output_type": "stream",
     "text": [
      "[13, 22, 29, 37, 46, 49, 52, 56, 71]\n"
     ]
    }
   ],
   "source": [
    "def bubble_sort(arr):\n",
    "    n = len(arr)\n",
    "    for i in range(n):\n",
    "        for j in range(0, n-i-1):\n",
    "            if arr[j] > arr[j+1]:\n",
    "                arr[j], arr[j+1] = arr[j+1], arr[j]\n",
    "\n",
    "# Données d'essai\n",
    "data = [29, 13, 22, 37, 52, 49, 46, 71, 56]\n",
    "bubble_sort(data)\n",
    "print(data)  # [13, 22, 29, 37, 46, 49, 52, 56, 71]"
   ]
  },
  {
   "cell_type": "code",
   "execution_count": 6,
   "id": "16adc69e",
   "metadata": {},
   "outputs": [
    {
     "name": "stdout",
     "output_type": "stream",
     "text": [
      "[13, 22, 29, 37, 46, 49, 52, 56, 71]\n"
     ]
    }
   ],
   "source": [
    "def merge_sort(arr):\n",
    "    if len(arr) <= 1:\n",
    "        return arr\n",
    "    \n",
    "    mid = len(arr) // 2\n",
    "    left_half = arr[:mid]\n",
    "    right_half = arr[mid:]\n",
    "    \n",
    "    left_half = merge_sort(left_half)\n",
    "    right_half = merge_sort(right_half)\n",
    "    \n",
    "    return merge(left_half, right_half)\n",
    "\n",
    "def merge(left, right):\n",
    "    result = []\n",
    "    i = j = 0\n",
    "    \n",
    "    while i < len(left) and j < len(right):\n",
    "        if left[i] < right[j]:\n",
    "            result.append(left[i])\n",
    "            i += 1\n",
    "        else:\n",
    "            result.append(right[j])\n",
    "            j += 1\n",
    "    \n",
    "    result.extend(left[i:])\n",
    "    result.extend(right[j:])\n",
    "    return result\n",
    "\n",
    "# Données d'essai\n",
    "data = [29, 13, 22, 37, 52, 49, 46, 71, 56]\n",
    "sorted_data = merge_sort(data)\n",
    "print(sorted_data)  # [13, 22, 29, 37, 46, 49, 52, 56, 71]"
   ]
  },
  {
   "cell_type": "code",
   "execution_count": 7,
   "id": "35d52b61",
   "metadata": {},
   "outputs": [
    {
     "name": "stdout",
     "output_type": "stream",
     "text": [
      "[13, 22, 29, 37, 46, 49, 52, 56, 71]\n"
     ]
    }
   ],
   "source": [
    "def quick_sort(arr):\n",
    "    if len(arr) <= 1:\n",
    "        return arr\n",
    "    \n",
    "    pivot = arr[len(arr) // 2]\n",
    "    left = [x for x in arr if x < pivot]\n",
    "    middle = [x for x in arr if x == pivot]\n",
    "    right = [x for x in arr if x > pivot]\n",
    "    \n",
    "    return quick_sort(left) + middle + quick_sort(right)\n",
    "\n",
    "# Données d'\n",
    "data = [29, 13, 22, 37, 52, 49, 46, 71, 56]\n",
    "sorted_data = quick_sort(data)\n",
    "print(sorted_data)  # [13, 22, 29, 37, 46, 49, 52, 56, 71]"
   ]
  },
  {
   "cell_type": "code",
   "execution_count": null,
   "id": "06a09cd6",
   "metadata": {},
   "outputs": [],
   "source": []
  }
 ],
 "metadata": {
  "kernelspec": {
   "display_name": "Python 3 (ipykernel)",
   "language": "python",
   "name": "python3"
  },
  "language_info": {
   "codemirror_mode": {
    "name": "ipython",
    "version": 3
   },
   "file_extension": ".py",
   "mimetype": "text/x-python",
   "name": "python",
   "nbconvert_exporter": "python",
   "pygments_lexer": "ipython3",
   "version": "3.10.9"
  }
 },
 "nbformat": 4,
 "nbformat_minor": 5
}
